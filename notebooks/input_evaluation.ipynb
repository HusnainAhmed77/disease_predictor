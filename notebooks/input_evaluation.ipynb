{
 "cells": [
  {
   "cell_type": "code",
   "execution_count": 8,
   "id": "92fc8ce8-3a0b-4847-bd5e-1cd966c34a4e",
   "metadata": {},
   "outputs": [
    {
     "name": "stderr",
     "output_type": "stream",
     "text": [
      "/opt/anaconda3/envs/mednlp/lib/python3.10/site-packages/sklearn/base.py:440: InconsistentVersionWarning: Trying to unpickle estimator DecisionTreeClassifier from version 1.5.1 when using version 1.7.0. This might lead to breaking code or invalid results. Use at your own risk. For more info please refer to:\n",
      "https://scikit-learn.org/stable/model_persistence.html#security-maintainability-limitations\n",
      "  warnings.warn(\n",
      "/opt/anaconda3/envs/mednlp/lib/python3.10/site-packages/sklearn/base.py:440: InconsistentVersionWarning: Trying to unpickle estimator RandomForestClassifier from version 1.5.1 when using version 1.7.0. This might lead to breaking code or invalid results. Use at your own risk. For more info please refer to:\n",
      "https://scikit-learn.org/stable/model_persistence.html#security-maintainability-limitations\n",
      "  warnings.warn(\n",
      "/opt/anaconda3/envs/mednlp/lib/python3.10/site-packages/sklearn/base.py:440: InconsistentVersionWarning: Trying to unpickle estimator MultiLabelBinarizer from version 1.5.1 when using version 1.7.0. This might lead to breaking code or invalid results. Use at your own risk. For more info please refer to:\n",
      "https://scikit-learn.org/stable/model_persistence.html#security-maintainability-limitations\n",
      "  warnings.warn(\n",
      "/opt/anaconda3/envs/mednlp/lib/python3.10/site-packages/sklearn/base.py:440: InconsistentVersionWarning: Trying to unpickle estimator LabelEncoder from version 1.5.1 when using version 1.7.0. This might lead to breaking code or invalid results. Use at your own risk. For more info please refer to:\n",
      "https://scikit-learn.org/stable/model_persistence.html#security-maintainability-limitations\n",
      "  warnings.warn(\n"
     ]
    },
    {
     "name": "stdout",
     "output_type": "stream",
     "text": [
      "\n",
      "➕ Add new symptoms to refine the prediction (comma-separated):\n"
     ]
    },
    {
     "name": "stdin",
     "output_type": "stream",
     "text": [
      ">  headache, nausea, vomiting\n"
     ]
    },
    {
     "name": "stdout",
     "output_type": "stream",
     "text": [
      "\n",
      "🧾 Current symptoms so far: headache, nausea, vomiting\n",
      "\n",
      "🧠 Diseases that match ALL current symptoms:\n",
      "\n",
      "🔸 Malaria\n",
      "   ✓ Your Symptoms: nausea, vomiting, headache\n",
      "   ➕ Other symptoms typically seen: diarrhoea, sweating, muscle pain\n",
      "\n",
      "🔸 Dengue\n",
      "   ✓ Your Symptoms: nausea, vomiting, headache\n",
      "   ➕ Other symptoms typically seen: fatigue, back pain, pain behind the eyes\n",
      "\n",
      "🔸 Typhoid\n",
      "   ✓ Your Symptoms: nausea, vomiting, headache\n",
      "   ➕ Other symptoms typically seen: fatigue, diarrhoea, abdominal pain\n",
      "\n",
      "🔸 Hypoglycemia\n",
      "   ✓ Your Symptoms: nausea, vomiting, headache\n",
      "   ➕ Other symptoms typically seen: fatigue, sweating, slurred speech\n",
      "\n",
      "🔸 (vertigo) Paroymsal  Positional Vertigo\n",
      "   ✓ Your Symptoms: nausea, vomiting, headache\n",
      "   ➕ Other symptoms typically seen: loss of balance, spinning movements, unsteadiness\n",
      "\n",
      "🎯 Most Likely Prediction: (vertigo) Paroymsal  Positional Vertigo\n",
      "\n",
      "💊 Medicines: Meclizine, betahistine\n",
      "🧾 Steps: Perform Epley maneuver. Avoid sudden head movements. Vestibular rehab if persistent.\n",
      "⏱️ Duration: Days to weeks\n"
     ]
    },
    {
     "name": "stdin",
     "output_type": "stream",
     "text": [
      "\n",
      "🔁 Add more symptoms to refine? (y/n):  y\n"
     ]
    },
    {
     "name": "stdout",
     "output_type": "stream",
     "text": [
      "\n",
      "➕ Add new symptoms to refine the prediction (comma-separated):\n"
     ]
    },
    {
     "name": "stdin",
     "output_type": "stream",
     "text": [
      ">  diarrhoea, sweating\n"
     ]
    },
    {
     "name": "stdout",
     "output_type": "stream",
     "text": [
      "\n",
      "🧾 Current symptoms so far: headache, nausea, vomiting, diarrhoea, sweating\n",
      "\n",
      "🧠 Diseases that match ALL current symptoms:\n",
      "\n",
      "🔸 Malaria\n",
      "   ✓ Your Symptoms: diarrhoea, headache, sweating, nausea, vomiting\n",
      "   ➕ Other symptoms typically seen: high fever, chills, muscle pain\n",
      "\n",
      "🎯 Most Likely Prediction: Malaria\n",
      "\n",
      "💊 Medicines: artemisinin-based combination therapy (ACT), intravenous quinine, paracetamol\n",
      "🧾 Steps: Take ACT twice daily for 3 days. In severe cases, use intravenous quinine. Stay hydrated and manage fever.\n",
      "⏱️ Duration: 7–10 days\n"
     ]
    },
    {
     "name": "stdin",
     "output_type": "stream",
     "text": [
      "\n",
      "🔁 Add more symptoms to refine? (y/n):  n\n"
     ]
    },
    {
     "name": "stdout",
     "output_type": "stream",
     "text": [
      "👋 Session complete. Thank you!\n"
     ]
    }
   ],
   "source": [
    "import joblib\n",
    "import ast\n",
    "import pandas as pd\n",
    "\n",
    "# -----------------------------\n",
    "# Load Model & Encoders\n",
    "# -----------------------------\n",
    "model = joblib.load(\"disease_model.pkl\")\n",
    "symptom_encoder = joblib.load(\"symptom_encoder.pkl\")\n",
    "disease_encoder = joblib.load(\"disease_encoder.pkl\")\n",
    "\n",
    "# -----------------------------\n",
    "# Load Treatment Info\n",
    "# -----------------------------\n",
    "def parse_treatment_file(path):\n",
    "    treatment_map = {}\n",
    "    current_disease = None\n",
    "\n",
    "    with open(path, \"r\") as file:\n",
    "        for line in file:\n",
    "            line = line.strip()\n",
    "            if not line:\n",
    "                continue\n",
    "            if line.endswith(\":\") and \"Medicines\" not in line:\n",
    "                current_disease = line[:-1]\n",
    "                treatment_map[current_disease] = {}\n",
    "            elif current_disease:\n",
    "                if line.startswith(\"Medicines:\"):\n",
    "                    treatment_map[current_disease][\"medicines\"] = line.replace(\"Medicines:\", \"\").strip()\n",
    "                elif line.startswith(\"Steps:\"):\n",
    "                    treatment_map[current_disease][\"steps\"] = line.replace(\"Steps:\", \"\").strip()\n",
    "                elif line.startswith(\"Duration:\"):\n",
    "                    treatment_map[current_disease][\"duration\"] = line.replace(\"Duration:\", \"\").strip()\n",
    "    return treatment_map\n",
    "\n",
    "treatment_map = parse_treatment_file(\"treatments.txt\")\n",
    "\n",
    "def normalize_disease_name(name):\n",
    "    name = name.lower().strip()\n",
    "    if \"(\" in name and \")\" in name:\n",
    "        name = name.split(\")\")[-1].strip()\n",
    "    return name\n",
    "\n",
    "normalized_treatment_map = {\n",
    "    normalize_disease_name(d): v for d, v in treatment_map.items()\n",
    "}\n",
    "\n",
    "# Load dataset\n",
    "df = pd.read_csv(\"data.csv\")\n",
    "\n",
    "# -----------------------------\n",
    "# Start Interaction\n",
    "# -----------------------------\n",
    "all_symptoms = []\n",
    "\n",
    "while True:\n",
    "    print(\"\\n➕ Add new symptoms to refine the prediction (comma-separated):\")\n",
    "    new_input = input(\"> \")\n",
    "    new_symptoms = [s.strip().lower() for s in new_input.split(\",\")]\n",
    "\n",
    "    all_symptoms.extend(sym for sym in new_symptoms if sym not in all_symptoms)\n",
    "    print(f\"\\n🧾 Current symptoms so far: {', '.join(all_symptoms)}\")\n",
    "\n",
    "    # -----------------------------\n",
    "    # Strict Matching with Grouped Diseases (No Duplicates)\n",
    "    # -----------------------------\n",
    "    disease_to_extras = {}\n",
    "\n",
    "    for _, row in df.iterrows():\n",
    "        try:\n",
    "            row_symptoms = ast.literal_eval(row[\"Symptoms\"])\n",
    "            normalized = set(s.strip().replace(\"_\", \" \").lower() for s in row_symptoms)\n",
    "            if set(all_symptoms).issubset(normalized):\n",
    "                disease = row[\"Disease\"]\n",
    "                extra = normalized - set(all_symptoms)\n",
    "                if disease not in disease_to_extras:\n",
    "                    disease_to_extras[disease] = {\"overlap\": set(all_symptoms), \"extra\": extra}\n",
    "                else:\n",
    "                    disease_to_extras[disease][\"extra\"].update(extra)\n",
    "        except:\n",
    "            continue\n",
    "\n",
    "    if not disease_to_extras:\n",
    "        print(\"❌ No disease contains all given symptoms.\")\n",
    "    else:\n",
    "        print(\"\\n🧠 Diseases that match ALL current symptoms:\")\n",
    "        for disease, data in disease_to_extras.items():\n",
    "            print(f\"\\n🔸 {disease}\")\n",
    "            print(f\"   ✓ Your Symptoms: {', '.join(data['overlap'])}\")\n",
    "            if data[\"extra\"]:\n",
    "                print(f\"   ➕ Other symptoms typically seen: {', '.join(list(data['extra'])[:3])}\")\n",
    "            else:\n",
    "                print(\"   ✅ All symptoms matched exactly.\")\n",
    "\n",
    "        # -----------------------------\n",
    "        # Model Prediction + Treatment\n",
    "        # -----------------------------\n",
    "        valid_symptoms = set(symptom_encoder.classes_)\n",
    "        filtered = [s for s in all_symptoms if s in valid_symptoms]\n",
    "\n",
    "        if filtered:\n",
    "            X_input = symptom_encoder.transform([filtered])\n",
    "            y_pred = model.predict(X_input)\n",
    "            predicted = disease_encoder.inverse_transform(y_pred)[0]\n",
    "            norm_pred = normalize_disease_name(predicted)\n",
    "\n",
    "            print(f\"\\n🎯 Most Likely Prediction: {predicted}\")\n",
    "            if norm_pred in normalized_treatment_map:\n",
    "                treatment = normalized_treatment_map[norm_pred]\n",
    "                print(\"\\n💊 Medicines:\", treatment.get(\"medicines\", \"Not specified\"))\n",
    "                print(\"🧾 Steps:\", treatment.get(\"steps\", \"Not specified\"))\n",
    "                print(\"⏱️ Duration:\", treatment.get(\"duration\", \"Not specified\"))\n",
    "            else:\n",
    "                print(\"⚠️ No treatment info found.\")\n",
    "        else:\n",
    "            print(\"⚠️ None of your symptoms matched the model vocabulary.\")\n",
    "\n",
    "    again = input(\"\\n🔁 Add more symptoms to refine? (y/n): \").strip().lower()\n",
    "    if again != \"y\":\n",
    "        print(\"👋 Session complete. Thank you!\")\n",
    "        break\n"
   ]
  },
  {
   "cell_type": "code",
   "execution_count": null,
   "id": "a33da912-8346-49ae-b792-313d24c1ac96",
   "metadata": {},
   "outputs": [],
   "source": []
  }
 ],
 "metadata": {
  "kernelspec": {
   "display_name": "Python [conda env:mednlp]",
   "language": "python",
   "name": "conda-env-mednlp-py"
  },
  "language_info": {
   "codemirror_mode": {
    "name": "ipython",
    "version": 3
   },
   "file_extension": ".py",
   "mimetype": "text/x-python",
   "name": "python",
   "nbconvert_exporter": "python",
   "pygments_lexer": "ipython3",
   "version": "3.10.18"
  }
 },
 "nbformat": 4,
 "nbformat_minor": 5
}
